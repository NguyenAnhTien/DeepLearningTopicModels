{
 "cells": [
  {
   "cell_type": "code",
   "execution_count": 6,
   "metadata": {
    "collapsed": false
   },
   "outputs": [],
   "source": [
    "from __future__ import print_function, division\n",
    "import os\n",
    "import sys\n",
    "import timeit\n",
    "from six.moves import cPickle as pickle\n",
    "\n",
    "import numpy as np\n",
    "import pandas as pd\n",
    "\n",
    "import theano\n",
    "import theano.tensor as T\n",
    "\n",
    "from lib.deeplearning import deepbeliefnet\n",
    "\n",
    "os.chdir('/home/ekhongl/Codes/DL - Topic Modelling')"
   ]
  },
  {
   "cell_type": "code",
   "execution_count": 7,
   "metadata": {
    "collapsed": false
   },
   "outputs": [],
   "source": [
    "# loading the data and transforming it into theano compatible variables\n",
    "dat_x = np.genfromtxt('data/dtm_20news.csv', dtype='float32', delimiter=',', skip_header = 1)\n",
    "dat_y = dat_x[:,0]\n",
    "dat_x = dat_x[:,1:]\n",
    "vocab =  np.genfromtxt('data/dtm_20news.csv', dtype=str, delimiter=',', max_rows = 1)[1:]\n",
    "x = theano.shared(dat_x)\n",
    "y = T.cast(dat_y, dtype='int32')"
   ]
  },
  {
   "cell_type": "code",
   "execution_count": 31,
   "metadata": {
    "collapsed": false
   },
   "outputs": [
    {
     "data": {
      "image/png": "[encoded data removed]",
      "text/plain": [
       "<matplotlib.figure.Figure at 0x7f2090032898>"
      ]
     },
     "metadata": {},
     "output_type": "display_data"
    }
   ],
   "source": [
    "import numpy as np\n",
    "import matplotlib.pyplot as plt\n",
    "%matplotlib inline\n",
    "plt_dat = np.genfromtxt('params_2000/dbn_params_pretrain/lproxy_layer_2.csv', delimiter=',', names = True)[:20]\n",
    "plt.plot(plt_dat)\n",
    "plt.show()"
   ]
  },
  {
   "cell_type": "markdown",
   "metadata": {},
   "source": [
    "## This demonstrates the pretraining procedure of a Deep Belief Net (DBN)\n",
    "## [unsupervised]"
   ]
  },
  {
   "cell_type": "code",
   "execution_count": 4,
   "metadata": {
    "collapsed": false
   },
   "outputs": [
    {
     "name": "stdout",
     "output_type": "stream",
     "text": [
      "... building the model\n",
      "Building layer: 0\n",
      "   Input units: 2756\n",
      "  Output units: 500\n",
      "Building layer: 1\n",
      "   Input units: 500\n",
      "  Output units: 500\n",
      "Building layer: 2\n",
      "   Input units: 500\n",
      "  Output units: 128\n",
      "... getting the pretraining functions\n",
      "... pre-training the model\n",
      "Pre-training layer 0, epoch 0, cost  -221993.0\n",
      "Pre-training layer 0, epoch 1, cost  -220703.0\n",
      "Pre-training layer 0, epoch 2, cost  -220447.0\n",
      "Pre-training layer 0, epoch 3, cost  -220204.0\n",
      "Pre-training layer 0, epoch 4, cost  -219999.0\n",
      "Pre-training layer 0, epoch 5, cost  -219817.0\n",
      "Pre-training layer 0, epoch 6, cost  -219653.0\n",
      "Pre-training layer 0, epoch 7, cost  -219516.0\n",
      "Pre-training layer 0, epoch 8, cost  -219367.0\n",
      "Pre-training layer 0, epoch 9, cost  -219201.0\n"
     ]
    },
    {
     "name": "stderr",
     "output_type": "stream",
     "text": [
      "The pretraining for layer 0 ran for 0.98m\n"
     ]
    },
    {
     "name": "stdout",
     "output_type": "stream",
     "text": [
      "Pre-training layer 1, epoch 0, cost  -476.986\n",
      "Pre-training layer 1, epoch 1, cost  -403.897\n",
      "Pre-training layer 1, epoch 2, cost  -375.644\n",
      "Pre-training layer 1, epoch 3, cost  -377.482\n",
      "Pre-training layer 1, epoch 4, cost  -369.143\n",
      "Pre-training layer 1, epoch 5, cost  -360.756\n",
      "Pre-training layer 1, epoch 6, cost  -349.57\n",
      "Pre-training layer 1, epoch 7, cost  -355.625\n",
      "Pre-training layer 1, epoch 8, cost  -367.482\n",
      "Pre-training layer 1, epoch 9, cost  -366.158\n"
     ]
    },
    {
     "name": "stderr",
     "output_type": "stream",
     "text": [
      "The pretraining for layer 1 ran for 1.32m\n"
     ]
    },
    {
     "name": "stdout",
     "output_type": "stream",
     "text": [
      "Pre-training layer 2, epoch 0, cost  -390.471\n",
      "Pre-training layer 2, epoch 1, cost  -307.958\n",
      "Pre-training layer 2, epoch 2, cost  -214.608\n",
      "Pre-training layer 2, epoch 3, cost  -138.266\n",
      "Pre-training layer 2, epoch 4, cost  -88.4542\n",
      "Pre-training layer 2, epoch 5, cost  -62.165\n",
      "Pre-training layer 2, epoch 6, cost  -89.8151\n",
      "Pre-training layer 2, epoch 7, cost  -61.083\n",
      "Pre-training layer 2, epoch 8, cost  -79.6391\n",
      "Pre-training layer 2, epoch 9, cost  -46.3448\n"
     ]
    },
    {
     "name": "stderr",
     "output_type": "stream",
     "text": [
      "The pretraining for layer 2 ran for 1.54m\n"
     ]
    }
   ],
   "source": [
    "model = deepbeliefnet(architecture = [2756, 500, 500, 128])\n",
    "model.pretrain(input = x, pretraining_epochs = 10, output_path = 'params/to_delete')"
   ]
  },
  {
   "cell_type": "markdown",
   "metadata": {},
   "source": [
    "### Generating features from the unsupervised pretrained DBN"
   ]
  },
  {
   "cell_type": "code",
   "execution_count": 8,
   "metadata": {
    "collapsed": false
   },
   "outputs": [
    {
     "name": "stdout",
     "output_type": "stream",
     "text": [
      "... building the model\n",
      "Building layer: 0\n",
      "   Input units: 2756\n",
      "  Output units: 500\n",
      "Building layer: 1\n",
      "   Input units: 500\n",
      "  Output units: 500\n",
      "Building layer: 2\n",
      "   Input units: 500\n",
      "  Output units: 128\n",
      "Previously defined model from \"params/dbn_params\" loaded.\n"
     ]
    }
   ],
   "source": [
    "model = deepbeliefnet(architecture = [2756, 500, 500, 128], opt_epochs = [900,5,10],\n",
    "                      predefined_weights = 'params/dbn_params')\n",
    "output = model.score(input = x)"
   ]
  },
  {
   "cell_type": "code",
   "execution_count": 10,
   "metadata": {
    "collapsed": false
   },
   "outputs": [],
   "source": [
    "colnames = ['bit'] * 128\n",
    "colnames = [colnames[i] + str(i) for i in range(128)]\n",
    "colnames.insert(0,'_label_')\n",
    "pd.DataFrame(data = np.c_[dat_y, output], \n",
    "             columns = colnames). \\\n",
    "             to_csv( 'data/dbn_features.csv', index = False)"
   ]
  },
  {
   "cell_type": "markdown",
   "metadata": {},
   "source": [
    "## This demonstrates the conversion of a DBN into an MLP and training it w.r.t. to targets\n",
    "## [supervised]"
   ]
  },
  {
   "cell_type": "code",
   "execution_count": 5,
   "metadata": {
    "collapsed": false
   },
   "outputs": [
    {
     "name": "stdout",
     "output_type": "stream",
     "text": [
      "... building the model\n",
      "Building layer: 0\n",
      "   Input units: 2756\n",
      "  Output units: 500\n",
      "Building layer: 1\n",
      "   Input units: 500\n",
      "  Output units: 500\n",
      "Building layer: 2\n",
      "   Input units: 500\n",
      "  Output units: 128\n",
      "Previously defined model from \"params/dbn_params\" loaded.\n",
      "... getting the finetuning functions\n",
      "... finetuning the model\n",
      "epoch 1, minibatch 101/101, validation error 94.347826 %\n",
      "     epoch 1, minibatch 101/101, test error of best model 94.327957 %\n",
      "Saving model...\n",
      "...model saved.\n",
      "epoch 2, minibatch 101/101, validation error 93.478261 %\n",
      "     epoch 2, minibatch 101/101, test error of best model 93.682796 %\n",
      "Saving model...\n",
      "...model saved.\n",
      "epoch 3, minibatch 101/101, validation error 92.644928 %\n",
      "     epoch 3, minibatch 101/101, test error of best model 92.849462 %\n",
      "Saving model...\n",
      "...model saved.\n",
      "epoch 4, minibatch 101/101, validation error 91.956522 %\n",
      "     epoch 4, minibatch 101/101, test error of best model 92.204301 %\n",
      "Saving model...\n",
      "...model saved.\n",
      "epoch 5, minibatch 101/101, validation error 90.833333 %\n",
      "     epoch 5, minibatch 101/101, test error of best model 91.424731 %\n",
      "Saving model...\n",
      "...model saved.\n",
      "epoch 6, minibatch 101/101, validation error 89.818841 %\n",
      "     epoch 6, minibatch 101/101, test error of best model 90.322581 %\n",
      "Saving model...\n",
      "...model saved.\n",
      "epoch 7, minibatch 101/101, validation error 88.840580 %\n",
      "     epoch 7, minibatch 101/101, test error of best model 89.112903 %\n",
      "Saving model...\n",
      "...model saved.\n",
      "epoch 8, minibatch 101/101, validation error 87.427536 %\n",
      "     epoch 8, minibatch 101/101, test error of best model 87.822581 %\n",
      "Saving model...\n",
      "...model saved.\n",
      "epoch 9, minibatch 101/101, validation error 86.123188 %\n",
      "     epoch 9, minibatch 101/101, test error of best model 86.075269 %\n",
      "Saving model...\n",
      "...model saved.\n",
      "epoch 10, minibatch 101/101, validation error 84.420290 %\n",
      "     epoch 10, minibatch 101/101, test error of best model 84.569892 %\n",
      "Saving model...\n",
      "...model saved.\n",
      "epoch 11, minibatch 101/101, validation error 82.681159 %\n",
      "     epoch 11, minibatch 101/101, test error of best model 82.930108 %\n",
      "Saving model...\n",
      "...model saved.\n",
      "epoch 12, minibatch 101/101, validation error 80.869565 %\n",
      "     epoch 12, minibatch 101/101, test error of best model 81.639785 %\n",
      "Saving model...\n",
      "...model saved.\n",
      "epoch 13, minibatch 101/101, validation error 78.985507 %\n",
      "     epoch 13, minibatch 101/101, test error of best model 80.000000 %\n",
      "Saving model...\n",
      "...model saved.\n",
      "epoch 14, minibatch 101/101, validation error 77.536232 %\n",
      "     epoch 14, minibatch 101/101, test error of best model 78.360215 %\n",
      "Saving model...\n",
      "...model saved.\n",
      "epoch 15, minibatch 101/101, validation error 76.123188 %\n",
      "     epoch 15, minibatch 101/101, test error of best model 76.962366 %\n",
      "Saving model...\n",
      "...model saved.\n",
      "epoch 16, minibatch 101/101, validation error 74.746377 %\n",
      "     epoch 16, minibatch 101/101, test error of best model 75.322581 %\n",
      "Saving model...\n",
      "...model saved.\n",
      "epoch 17, minibatch 101/101, validation error 73.478261 %\n",
      "     epoch 17, minibatch 101/101, test error of best model 73.924731 %\n",
      "Saving model...\n",
      "...model saved.\n",
      "epoch 18, minibatch 101/101, validation error 72.644928 %\n",
      "     epoch 18, minibatch 101/101, test error of best model 73.145161 %\n",
      "Saving model...\n",
      "...model saved.\n",
      "epoch 19, minibatch 101/101, validation error 70.905797 %\n",
      "     epoch 19, minibatch 101/101, test error of best model 71.612903 %\n",
      "Saving model...\n",
      "...model saved.\n"
     ]
    },
    {
     "ename": "KeyboardInterrupt",
     "evalue": "",
     "output_type": "error",
     "traceback": [
      "\u001b[0;31m---------------------------------------------------------------------------\u001b[0m",
      "\u001b[0;31mKeyboardInterrupt\u001b[0m                         Traceback (most recent call last)",
      "\u001b[0;32m<ipython-input-5-8807b3bc7e63>\u001b[0m in \u001b[0;36m<module>\u001b[0;34m()\u001b[0m\n\u001b[1;32m      2\u001b[0m \u001b[0;31m#model.train(x=x, y=y,batch_size = 70, training_epochs = 10, output_path = 'params/to_delete')\u001b[0m\u001b[0;34m\u001b[0m\u001b[0;34m\u001b[0m\u001b[0m\n\u001b[1;32m      3\u001b[0m model.train(x=x, y=y, training_epochs = 10000, learning_rate = (1/70)/2, batch_size = 120,\n\u001b[0;32m----> 4\u001b[0;31m             drop_out = [0.2, .5, .5, .5], output_path = 'params/dbn_params_dropout')\n\u001b[0m",
      "\u001b[0;32m/home/ekhongl/Codes/DL - Topic Modelling/lib/deeplearning.py\u001b[0m in \u001b[0;36mtrain\u001b[0;34m(self, x, y, split_prop, training_epochs, batch_size, learning_rate, drop_out, output_path)\u001b[0m\n\u001b[1;32m    208\u001b[0m             \u001b[0;32mfor\u001b[0m \u001b[0mminibatch_index\u001b[0m \u001b[0;32min\u001b[0m \u001b[0mrange\u001b[0m\u001b[0;34m(\u001b[0m\u001b[0mn_train_batches\u001b[0m\u001b[0;34m)\u001b[0m\u001b[0;34m:\u001b[0m\u001b[0;34m\u001b[0m\u001b[0m\n\u001b[1;32m    209\u001b[0m \u001b[0;34m\u001b[0m\u001b[0m\n\u001b[0;32m--> 210\u001b[0;31m                 \u001b[0mtrain_fn\u001b[0m\u001b[0;34m(\u001b[0m\u001b[0mminibatch_index\u001b[0m\u001b[0;34m)\u001b[0m\u001b[0;34m\u001b[0m\u001b[0m\n\u001b[0m\u001b[1;32m    211\u001b[0m                 \u001b[0miter\u001b[0m \u001b[0;34m=\u001b[0m \u001b[0;34m(\u001b[0m\u001b[0mepoch\u001b[0m \u001b[0;34m-\u001b[0m \u001b[0;36m1\u001b[0m\u001b[0;34m)\u001b[0m \u001b[0;34m*\u001b[0m \u001b[0mn_train_batches\u001b[0m \u001b[0;34m+\u001b[0m \u001b[0mminibatch_index\u001b[0m\u001b[0;34m\u001b[0m\u001b[0m\n\u001b[1;32m    212\u001b[0m \u001b[0;34m\u001b[0m\u001b[0m\n",
      "\u001b[0;32m/home/ekhongl/.conda/envs/py3/lib/python3.5/site-packages/theano/compile/function_module.py\u001b[0m in \u001b[0;36m__call__\u001b[0;34m(self, *args, **kwargs)\u001b[0m\n\u001b[1;32m    857\u001b[0m         \u001b[0mt0_fn\u001b[0m \u001b[0;34m=\u001b[0m \u001b[0mtime\u001b[0m\u001b[0;34m.\u001b[0m\u001b[0mtime\u001b[0m\u001b[0;34m(\u001b[0m\u001b[0;34m)\u001b[0m\u001b[0;34m\u001b[0m\u001b[0m\n\u001b[1;32m    858\u001b[0m         \u001b[0;32mtry\u001b[0m\u001b[0;34m:\u001b[0m\u001b[0;34m\u001b[0m\u001b[0m\n\u001b[0;32m--> 859\u001b[0;31m             \u001b[0moutputs\u001b[0m \u001b[0;34m=\u001b[0m \u001b[0mself\u001b[0m\u001b[0;34m.\u001b[0m\u001b[0mfn\u001b[0m\u001b[0;34m(\u001b[0m\u001b[0;34m)\u001b[0m\u001b[0;34m\u001b[0m\u001b[0m\n\u001b[0m\u001b[1;32m    860\u001b[0m         \u001b[0;32mexcept\u001b[0m \u001b[0mException\u001b[0m\u001b[0;34m:\u001b[0m\u001b[0;34m\u001b[0m\u001b[0m\n\u001b[1;32m    861\u001b[0m             \u001b[0;32mif\u001b[0m \u001b[0mhasattr\u001b[0m\u001b[0;34m(\u001b[0m\u001b[0mself\u001b[0m\u001b[0;34m.\u001b[0m\u001b[0mfn\u001b[0m\u001b[0;34m,\u001b[0m \u001b[0;34m'position_of_error'\u001b[0m\u001b[0;34m)\u001b[0m\u001b[0;34m:\u001b[0m\u001b[0;34m\u001b[0m\u001b[0m\n",
      "\u001b[0;31mKeyboardInterrupt\u001b[0m: "
     ]
    }
   ],
   "source": [
    "model = deepbeliefnet(architecture = [2756, 500, 500, 128], opt_epochs = [900,5,10], n_outs = 20, predefined_weights = 'params/dbn_params')\n",
    "#model.train(x=x, y=y,batch_size = 70, training_epochs = 10, output_path = 'params/to_delete')\n",
    "model.train(x=x, y=y, training_epochs = 10000, learning_rate = (1/70)/2, batch_size = 120,\n",
    "            drop_out = [0.2, .5, .5, .5], output_path = 'params/dbn_params_dropout')"
   ]
  }
 ],
 "metadata": {
  "anaconda-cloud": {},
  "kernelspec": {
   "display_name": "Python [conda env:py3]",
   "language": "python",
   "name": "conda-env-py3-py"
  },
  "language_info": {
   "codemirror_mode": {
    "name": "ipython",
    "version": 3
   },
   "file_extension": ".py",
   "mimetype": "text/x-python",
   "name": "python",
   "nbconvert_exporter": "python",
   "pygments_lexer": "ipython3",
   "version": "3.5.2"
  }
 },
 "nbformat": 4,
 "nbformat_minor": 2
}
