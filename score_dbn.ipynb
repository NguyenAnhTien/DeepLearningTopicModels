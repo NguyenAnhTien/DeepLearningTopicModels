{
 "cells": [
  {
   "cell_type": "code",
   "execution_count": 1,
   "metadata": {
    "collapsed": false
   },
   "outputs": [
    {
     "name": "stderr",
     "output_type": "stream",
     "text": [
      "Using gpu device 0: Tesla K40c (CNMeM is disabled, cuDNN 5105)\n",
      "/home/ekhongl/.conda/envs/py3/lib/python3.5/site-packages/theano/sandbox/cuda/__init__.py:600: UserWarning: Your cuDNN version is more recent than the one Theano officially supports. If you see any problems, try updating Theano or downgrading cuDNN to version 5.\n",
      "  warnings.warn(warn)\n"
     ]
    }
   ],
   "source": [
    "\"\"\"This tutorial introduces restricted boltzmann machines (RBM) using Theano.\n",
    "\n",
    "Boltzmann Machines (BMs) are a particular form of energy-based model which\n",
    "contain hidden variables. Restricted Boltzmann Machines further restrict BMs\n",
    "to those without visible-visible and hidden-hidden connections.\n",
    "\"\"\"\n",
    "from __future__ import print_function, division\n",
    "import os\n",
    "import sys\n",
    "import timeit\n",
    "from six.moves import cPickle as pickle\n",
    "\n",
    "import numpy as np\n",
    "import pandas as pd\n",
    "\n",
    "import theano\n",
    "import theano.tensor as T\n",
    "from theano.sandbox.rng_mrg import MRG_RandomStreams\n",
    "\n",
    "from lib.mlp import HiddenLayer, LogisticRegression\n",
    "from lib.rbm import RBM, RSM\n",
    "from lib.dbn import DBN\n",
    "\n",
    "os.chdir('/home/ekhongl/Codes/DL - Topic Modelling')"
   ]
  },
  {
   "cell_type": "code",
   "execution_count": 3,
   "metadata": {
    "collapsed": false
   },
   "outputs": [],
   "source": [
    "class load_DBN(object):\n",
    "    \n",
    "    def __init__(self, architecture = [], opt_epoch = [], model_src = 'dbn_params_2000'):\n",
    "        \n",
    "        # ensure model source directory is valid\n",
    "        assert type(model_src) == str or model_src is not None, \"dir to load model parameters not indicated\"\n",
    "        assert len(architecture) == (len(opt_epoch)+1) , \"len of network inputs must be 1 more than len of hidden layers\"\n",
    "        \n",
    "        # reconstruct the DBN class\n",
    "        self.n_layers = len(architecture[1:])\n",
    "        self.dbn = DBN( n_ins=architecture[0],\n",
    "                        hidden_layers_sizes = architecture[1:] )\n",
    "\n",
    "        # load saved model\n",
    "        for i in range(len(opt_epoch)):\n",
    "            model_pkl = os.path.join(model_src,\n",
    "                        'dbn_layer' + str(i) + '_epoch_' + str(opt_epoch[i]) + '.pkl')\n",
    "            self.dbn.rbm_layers[i].__setstate__(pickle.load(open(model_pkl, 'rb')))\n",
    "        \n",
    "        \n",
    "    def score(self, input, batch_size = 2000):    \n",
    "        train_set_x = input\n",
    "        N_input_x = train_set_x.shape[0]\n",
    "\n",
    "        # compute number of minibatches for scoring\n",
    "        if train_set_x.get_value(borrow=True).shape[0] % batch_size != 0:\n",
    "            N_splits = int( np.floor(train_set_x.get_value(borrow=True).shape[0] / batch_size) + 1 )\n",
    "        else:\n",
    "            N_splits = int( np.floor(train_set_x.get_value(borrow=True).shape[0] / batch_size) )\n",
    "        # allocate symbolic variables for the data\n",
    "        index = T.lscalar()    # index to a [mini]batch\n",
    "        x = T.matrix('x')  # the data is presented as rasterized images\n",
    "        \n",
    "        # extract the features w.r.t inputs\n",
    "        outputs = self.dbn.sigmoid_layers[-1].output\n",
    "        \n",
    "        # input_rSum must be specified for the RSM layer\n",
    "        self.dbn.rbm_layers[0].input_rSum = x.sum(axis=1)\n",
    "        activation = x\n",
    "        for i in range(self.n_layers):\n",
    "            _, activation = self.dbn.rbm_layers[i].propup(activation)\n",
    "            \n",
    "        # start-snippet-5\n",
    "        # it is ok for a theano function to have no output\n",
    "        # the purpose of train_rbm is solely to update the RBM parameters\n",
    "        score = theano.function(\n",
    "            inputs = [index],\n",
    "            outputs = activation,\n",
    "            givens={\n",
    "                x: train_set_x[index * batch_size: (index + 1) * batch_size]\n",
    "            }\n",
    "        )\n",
    "        \n",
    "        return np.concatenate( [score(ii) for ii in range(N_splits)], axis=0 )"
   ]
  },
  {
   "cell_type": "code",
   "execution_count": 2,
   "metadata": {
    "collapsed": false
   },
   "outputs": [],
   "source": [
    "dat_x = np.genfromtxt('data/dtm_20news.csv', dtype='float32', delimiter=',', skip_header = 1)\n",
    "dat_y = dat_x[:,0]\n",
    "dat_x = dat_x[:,1:]\n",
    "vocab =  np.genfromtxt('data/dtm_20news.csv', dtype=str, delimiter=',', max_rows = 1)[1:]\n",
    "test_input = theano.shared(dat_x)"
   ]
  },
  {
   "cell_type": "code",
   "execution_count": 4,
   "metadata": {
    "collapsed": false
   },
   "outputs": [
    {
     "name": "stdout",
     "output_type": "stream",
     "text": [
      "Building layer: 0\n",
      "   Input units: 2756\n",
      "  Output units: 500\n",
      "Building layer: 1\n",
      "   Input units: 500\n",
      "  Output units: 500\n",
      "Building layer: 2\n",
      "   Input units: 500\n",
      "  Output units: 128\n"
     ]
    }
   ],
   "source": [
    "model = load_DBN( architecture = [2756, 500, 500, 128], opt_epoch = [900,5,10])"
   ]
  },
  {
   "cell_type": "code",
   "execution_count": 5,
   "metadata": {
    "collapsed": false
   },
   "outputs": [],
   "source": [
    "output = model.score(input = test_input)"
   ]
  },
  {
   "cell_type": "code",
   "execution_count": 18,
   "metadata": {
    "collapsed": false
   },
   "outputs": [],
   "source": [
    "colnames = ['bit'] * 128\n",
    "colnames = [colnames[i] + str(i) for i in range(128)]\n",
    "colnames.insert(0,'_label_')"
   ]
  },
  {
   "cell_type": "code",
   "execution_count": 19,
   "metadata": {
    "collapsed": false
   },
   "outputs": [],
   "source": [
    "pd.DataFrame(data = np.c_[dat_y, output], \n",
    "             columns = colnames). \\\n",
    "             to_csv( 'data/dbn_features.csv', index = False)"
   ]
  }
 ],
 "metadata": {
  "anaconda-cloud": {},
  "kernelspec": {
   "display_name": "Python [conda env:py3]",
   "language": "python",
   "name": "conda-env-py3-py"
  },
  "language_info": {
   "codemirror_mode": {
    "name": "ipython",
    "version": 3
   },
   "file_extension": ".py",
   "mimetype": "text/x-python",
   "name": "python",
   "nbconvert_exporter": "python",
   "pygments_lexer": "ipython3",
   "version": "3.5.2"
  }
 },
 "nbformat": 4,
 "nbformat_minor": 2
}
