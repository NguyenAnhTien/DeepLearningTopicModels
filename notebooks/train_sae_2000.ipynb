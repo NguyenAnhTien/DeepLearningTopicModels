{
 "cells": [
  {
   "cell_type": "code",
   "execution_count": 1,
   "metadata": {
    "collapsed": false
   },
   "outputs": [
    {
     "name": "stderr",
     "output_type": "stream",
     "text": [
      "Using gpu device 0: Tesla K40c (CNMeM is disabled, cuDNN 5105)\n",
      "/home/ekhongl/.conda/envs/py3/lib/python3.5/site-packages/theano/sandbox/cuda/__init__.py:600: UserWarning: Your cuDNN version is more recent than the one Theano officially supports. If you see any problems, try updating Theano or downgrading cuDNN to version 5.\n",
      "  warnings.warn(warn)\n"
     ]
    }
   ],
   "source": [
    "from __future__ import print_function, division\n",
    "import os\n",
    "import sys\n",
    "import timeit\n",
    "from six.moves import cPickle as pickle\n",
    "\n",
    "import numpy as np\n",
    "import pandas as pd\n",
    "\n",
    "import theano\n",
    "import theano.tensor as T\n",
    "\n",
    "from lib.deeplearning import autoencoder\n",
    "\n",
    "os.chdir('/home/ekhongl/Codes/DL - Topic Modelling')"
   ]
  },
  {
   "cell_type": "code",
   "execution_count": 2,
   "metadata": {
    "collapsed": false
   },
   "outputs": [],
   "source": [
    "dat_x = np.genfromtxt('data/dtm_2000_20news.csv', dtype='float32', delimiter=',', skip_header = 1)\n",
    "dat_y = dat_x[:,0]\n",
    "dat_x = dat_x[:,1:]\n",
    "vocab =  np.genfromtxt('data/dtm_2000_20news.csv', dtype=str, delimiter=',', max_rows = 1)[1:]\n",
    "test_input = theano.shared(dat_x)"
   ]
  },
  {
   "cell_type": "markdown",
   "metadata": {},
   "source": [
    "## loading weights pretrained from the Deep Belief Net (DBN) to the Autoencoder"
   ]
  },
  {
   "cell_type": "code",
   "execution_count": 4,
   "metadata": {
    "collapsed": false,
    "scrolled": true
   },
   "outputs": [
    {
     "name": "stdout",
     "output_type": "stream",
     "text": [
      "Building layer: 0\n",
      "   Input units: 2000\n",
      "  Output units: 500\n",
      "Building layer: 1\n",
      "   Input units: 500\n",
      "  Output units: 500\n",
      "Building layer: 2\n",
      "   Input units: 500\n",
      "  Output units: 128\n"
     ]
    }
   ],
   "source": [
    "model = autoencoder( architecture = [2000, 500, 500, 128], opt_epochs = [110,15,10], model_src = 'params_2000/dbn_params_pretrain')"
   ]
  },
  {
   "cell_type": "markdown",
   "metadata": {},
   "source": [
    "## Training the Autoencoder"
   ]
  },
  {
   "cell_type": "code",
   "execution_count": 5,
   "metadata": {
    "collapsed": false
   },
   "outputs": [
    {
     "name": "stdout",
     "output_type": "stream",
     "text": [
      "... getting the finetuning functions\n",
      "... finetuning the model\n",
      "Saving model...\n",
      "...model saved\n",
      "Training epoch 0, cost  7.79978342056\n",
      "Saving model...\n",
      "...model saved\n",
      "Training epoch 100, cost  7.48429107666\n",
      "Saving model...\n",
      "...model saved\n",
      "Training epoch 109, cost  7.46735124588\n"
     ]
    },
    {
     "name": "stderr",
     "output_type": "stream",
     "text": [
      "Training ran for 0.29m\n"
     ]
    }
   ],
   "source": [
    "model.train(test_input, batch_size = 200, epochs = 110, add_noise = 16, output_path = 'params_2000/ae_train')"
   ]
  },
  {
   "cell_type": "markdown",
   "metadata": {},
   "source": [
    "## Loading the trained Auto-Encoder"
   ]
  },
  {
   "cell_type": "code",
   "execution_count": 3,
   "metadata": {
    "collapsed": false
   },
   "outputs": [
    {
     "name": "stdout",
     "output_type": "stream",
     "text": [
      "Building layer: 0\n",
      "   Input units: 2000\n",
      "  Output units: 500\n",
      "Building layer: 1\n",
      "   Input units: 500\n",
      "  Output units: 500\n",
      "Building layer: 2\n",
      "   Input units: 500\n",
      "  Output units: 128\n",
      "Loading the trained auto-encoder parameters.\n",
      "...please ensure that the auto-encoder params matches the defined architecture.\n"
     ]
    }
   ],
   "source": [
    "model = autoencoder( architecture = [2000, 500, 500, 128], model_src = 'params_2000/ae_train_nonoise',  param_type = 'ae')"
   ]
  },
  {
   "cell_type": "markdown",
   "metadata": {},
   "source": [
    "## Extracting features from the trained Auto-Encoder"
   ]
  },
  {
   "cell_type": "code",
   "execution_count": 4,
   "metadata": {
    "collapsed": false
   },
   "outputs": [],
   "source": [
    "output = model.score(test_input)"
   ]
  },
  {
   "cell_type": "markdown",
   "metadata": {},
   "source": [
    "## Saving the features extracted"
   ]
  },
  {
   "cell_type": "code",
   "execution_count": 27,
   "metadata": {
    "collapsed": false
   },
   "outputs": [],
   "source": [
    "colnames = ['bit'] * 128\n",
    "colnames = [colnames[i] + str(i) for i in range(128)]\n",
    "colnames.insert(0,'_label_')\n",
    "pd.DataFrame(data = np.c_[dat_y, output], \n",
    "             columns = colnames). \\\n",
    "             to_csv( 'data/ae_features_2000_nonoise.csv', index = False)"
   ]
  },
  {
   "cell_type": "markdown",
   "metadata": {},
   "source": [
    "# Visualizing the convergence behavior"
   ]
  },
  {
   "cell_type": "code",
   "execution_count": 24,
   "metadata": {
    "collapsed": false
   },
   "outputs": [
    {
     "data": {
      "image/png": "[encoded data removed]",
      "text/plain": [
       "<matplotlib.figure.Figure at 0x7fc1fa76c3c8>"
      ]
     },
     "metadata": {},
     "output_type": "display_data"
    }
   ],
   "source": [
    "import numpy as np\n",
    "import matplotlib.pyplot as plt\n",
    "%matplotlib inline\n",
    "plt_dat = np.genfromtxt('params_2000/ae_train_nonoise/cost_profile.csv', delimiter=',', names = True)\n",
    "plt.plot(plt_dat)\n",
    "plt.show()"
   ]
  }
 ],
 "metadata": {
  "anaconda-cloud": {},
  "kernelspec": {
   "display_name": "Python [conda env:py3]",
   "language": "python",
   "name": "conda-env-py3-py"
  },
  "language_info": {
   "codemirror_mode": {
    "name": "ipython",
    "version": 3
   },
   "file_extension": ".py",
   "mimetype": "text/x-python",
   "name": "python",
   "nbconvert_exporter": "python",
   "pygments_lexer": "ipython3",
   "version": "3.5.3"
  }
 },
 "nbformat": 4,
 "nbformat_minor": 2
}
