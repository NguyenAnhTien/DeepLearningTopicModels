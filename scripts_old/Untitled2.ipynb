{
 "cells": [
  {
   "cell_type": "code",
   "execution_count": 59,
   "metadata": {
    "collapsed": false
   },
   "outputs": [],
   "source": [
    "import numpy as np\n",
    "import theano\n",
    "from theano import tensor as T\n",
    "theano_rng = T.shared_randomstreams.RandomStreams(1234)\n",
    "W_values = np.array([[1,1],[1,1]], dtype=theano.config.floatX)\n",
    "bvis_values = np.array([1,1], dtype=theano.config.floatX)\n",
    "bhid_values = np.array([1,1], dtype=theano.config.floatX)\n",
    "W = theano.shared(W_values)\n",
    "vbias = theano.shared(bvis_values)\n",
    "hbias = theano.shared(bhid_values)\n",
    "\n",
    "def propup(vis, v0_doc_len):\n",
    "        pre_sigmoid_activation = T.dot(vis, W) + T.dot(hbias.reshape([1,hbias.shape[0]]).T,v0_doc_len).T        #---------------------------[edited]\n",
    "        return [pre_sigmoid_activation, T.nnet.sigmoid(pre_sigmoid_activation)]\n",
    "\n",
    "def sample_h_given_v(v0_sample, v0_doc_len):\n",
    "    pre_sigmoid_h1, h1_mean = propup(v0_sample, v0_doc_len)\n",
    "    h1_sample = theano_rng.binomial(size=h1_mean.shape,\n",
    "                                         n=1, p=h1_mean,\n",
    "                                         dtype=theano.config.floatX)\n",
    "    return [pre_sigmoid_h1, h1_mean, h1_sample]\n",
    "\n",
    "ipt = T.matrix()\n",
    "ipt_rSum = ipt.sum(axis=1).reshape([1,ipt.shape[0]])\n",
    "\n",
    "[out_1,out_2,out_3], updates =theano.scan( sample_h_given_v,\n",
    "                                non_sequences =[ipt, ipt_rSum],\n",
    "                                n_steps=1,\n",
    "                                name=\"gibbs_hvh\" )\n",
    "\n",
    "hgv = theano.function( [ipt], outputs=[out_1,out_2,out_3])"
   ]
  },
  {
   "cell_type": "code",
   "execution_count": 60,
   "metadata": {
    "collapsed": true
   },
   "outputs": [],
   "source": [
    "b = np.array([[1,6,],[1,3],[5,1]], dtype = theano.config.floatX)"
   ]
  },
  {
   "cell_type": "code",
   "execution_count": 61,
   "metadata": {
    "collapsed": false
   },
   "outputs": [
    {
     "name": "stdout",
     "output_type": "stream",
     "text": [
      "[[[ 14.  14.]\n",
      "  [  8.   8.]\n",
      "  [ 12.  12.]]]\n",
      "[[[ 0.99999917  0.99999917]\n",
      "  [ 0.99966466  0.99966466]\n",
      "  [ 0.9999938   0.9999938 ]]]\n",
      "[[[ 1.  1.]\n",
      "  [ 1.  1.]\n",
      "  [ 1.  1.]]]\n"
     ]
    }
   ],
   "source": [
    "pre_sigmoid_ph, ph_mean, ph_sample = hgv(b)\n",
    "print(pre_sigmoid_ph)\n",
    "print(ph_mean)\n",
    "print(ph_sample)"
   ]
  }
 ],
 "metadata": {
  "anaconda-cloud": {},
  "kernelspec": {
   "display_name": "Python [conda env:py3]",
   "language": "python",
   "name": "conda-env-py3-py"
  },
  "language_info": {
   "codemirror_mode": {
    "name": "ipython",
    "version": 3
   },
   "file_extension": ".py",
   "mimetype": "text/x-python",
   "name": "python",
   "nbconvert_exporter": "python",
   "pygments_lexer": "ipython3",
   "version": "3.5.2"
  }
 },
 "nbformat": 4,
 "nbformat_minor": 2
}
