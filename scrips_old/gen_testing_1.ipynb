{
 "cells": [
  {
   "cell_type": "code",
   "execution_count": 14,
   "metadata": {
    "collapsed": false
   },
   "outputs": [
    {
     "data": {
      "text/plain": [
       "array([[ 0.],\n",
       "       [ 0.]])"
      ]
     },
     "execution_count": 14,
     "metadata": {},
     "output_type": "execute_result"
    }
   ],
   "source": [
    "import numpy as np\n",
    "\n",
    "a1 = np.array(([1],[0]))\n",
    "a2 = np.array(([1],[0]))\n",
    "np.zeros([2, 2], 'float64')[a1,a2]"
   ]
  },
  {
   "cell_type": "code",
   "execution_count": 15,
   "metadata": {
    "collapsed": false
   },
   "outputs": [
    {
     "data": {
      "text/plain": [
       "array([0])"
      ]
     },
     "execution_count": 15,
     "metadata": {},
     "output_type": "execute_result"
    }
   ],
   "source": [
    "a1[-1]"
   ]
  },
  {
   "cell_type": "code",
   "execution_count": 176,
   "metadata": {
    "collapsed": false
   },
   "outputs": [],
   "source": [
    "import theano\n",
    "from theano import tensor as T\n",
    "\n",
    "\n",
    "\n",
    "W_values = np.random.randn(3,3)\n",
    "bvis_values = np.random.randn(3)\n",
    "bhid_values = np.random.randn(3)\n",
    "W = theano.shared(W_values) # we assume that ``W_values`` contains the\n",
    "                            # initial values of your weight matrix\n",
    "\n",
    "bvis = theano.shared(bvis_values)\n",
    "bhid = theano.shared(bhid_values)\n",
    "\n",
    "trng = T.shared_randomstreams.RandomStreams(1234)\n",
    "\n",
    "def OneStep(vsample) :\n",
    "    hmean = T.nnet.sigmoid(theano.dot(vsample, W) + bhid)\n",
    "    hsample = trng.binomial(size=hmean.shape, n=1, p=hmean)\n",
    "    vmean = T.nnet.sigmoid(theano.dot(hsample, W.T) + bvis)\n",
    "    return trng.binomial(size=vsample.shape, n=1, p=vmean,\n",
    "                         dtype=theano.config.floatX)*5\n",
    "\n",
    "sample = theano.tensor.matrix()\n",
    "input = sample[:,:-2].flatten()\n",
    "\n",
    "values, updates = theano.scan(OneStep, outputs_info=input, n_steps=10)\n",
    "\n",
    "gibbs10 = theano.function([sample], values[-1], updates=updates)"
   ]
  },
  {
   "cell_type": "code",
   "execution_count": 173,
   "metadata": {
    "collapsed": false
   },
   "outputs": [],
   "source": [
    "a = np.array([[1,2,3],[1,2,3],[1,2,3]], dtype = theano.config.floatX)"
   ]
  },
  {
   "cell_type": "code",
   "execution_count": 174,
   "metadata": {
    "collapsed": false
   },
   "outputs": [
    {
     "data": {
      "text/plain": [
       "array([ 0.,  0.,  5.], dtype=float32)"
      ]
     },
     "execution_count": 174,
     "metadata": {},
     "output_type": "execute_result"
    }
   ],
   "source": [
    "gibbs10(a)"
   ]
  },
  {
   "cell_type": "code",
   "execution_count": 152,
   "metadata": {
    "collapsed": false
   },
   "outputs": [
    {
     "data": {
      "text/plain": [
       "array([ 1.,  1.,  1.], dtype=float32)"
      ]
     },
     "execution_count": 152,
     "metadata": {},
     "output_type": "execute_result"
    }
   ],
   "source": [
    "a[:,:-2].flatten()"
   ]
  },
  {
   "cell_type": "code",
   "execution_count": 156,
   "metadata": {
    "collapsed": false
   },
   "outputs": [
    {
     "data": {
      "text/plain": [
       "array([ 6.,  6.,  6.], dtype=float32)"
      ]
     },
     "execution_count": 156,
     "metadata": {},
     "output_type": "execute_result"
    }
   ],
   "source": [
    "a.sum(axis=1)"
   ]
  },
  {
   "cell_type": "code",
   "execution_count": 609,
   "metadata": {
    "collapsed": false
   },
   "outputs": [],
   "source": [
    "def MultSim( v, v_sum) :\n",
    "    return trng.multinomial(size=None, \n",
    "                            n=v_sum, \n",
    "                            pvals=v/v_sum[:,None], \n",
    "                            dtype=theano.config.floatX)\n",
    "\n",
    "input = T.matrix()\n",
    "input_rSum = T.vector()\n",
    "\n",
    "values, updates = theano.scan(MultSim, outputs_info=input, non_sequences = input_rSum, n_steps=3)\n",
    "\n",
    "gibbs_mult = theano.function([input,input_rSum], values, updates=updates)\n",
    "\n"
   ]
  },
  {
   "cell_type": "code",
   "execution_count": 610,
   "metadata": {
    "collapsed": false
   },
   "outputs": [],
   "source": [
    "b = np.array([[2,0,0],[0,0,2],[1,1,1]], dtype = theano.config.floatX)\n",
    "out = gibbs_mult(b,b.sum(axis=1))"
   ]
  },
  {
   "cell_type": "code",
   "execution_count": 670,
   "metadata": {
    "collapsed": false
   },
   "outputs": [
    {
     "name": "stdout",
     "output_type": "stream",
     "text": [
      "(3, 3, 3)\n"
     ]
    },
    {
     "data": {
      "text/plain": [
       "array([[[ 2.,  0.,  0.],\n",
       "        [ 0.,  0.,  2.],\n",
       "        [ 1.,  1.,  1.]],\n",
       "\n",
       "       [[ 2.,  0.,  0.],\n",
       "        [ 0.,  0.,  2.],\n",
       "        [ 0.,  1.,  2.]],\n",
       "\n",
       "       [[ 2.,  0.,  0.],\n",
       "        [ 0.,  0.,  2.],\n",
       "        [ 0.,  1.,  2.]]], dtype=float32)"
      ]
     },
     "execution_count": 670,
     "metadata": {},
     "output_type": "execute_result"
    }
   ],
   "source": [
    "print(out.shape)\n",
    "out\n"
   ]
  },
  {
   "cell_type": "code",
   "execution_count": null,
   "metadata": {
    "collapsed": true
   },
   "outputs": [],
   "source": []
  }
 ],
 "metadata": {
  "anaconda-cloud": {},
  "kernelspec": {
   "display_name": "Python [conda env:py3]",
   "language": "python",
   "name": "conda-env-py3-py"
  },
  "language_info": {
   "codemirror_mode": {
    "name": "ipython",
    "version": 3
   },
   "file_extension": ".py",
   "mimetype": "text/x-python",
   "name": "python",
   "nbconvert_exporter": "python",
   "pygments_lexer": "ipython3",
   "version": "3.5.2"
  }
 },
 "nbformat": 4,
 "nbformat_minor": 2
}
