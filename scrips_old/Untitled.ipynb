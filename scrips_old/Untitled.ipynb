{
 "cells": [
  {
   "cell_type": "code",
   "execution_count": 98,
   "metadata": {
    "collapsed": false
   },
   "outputs": [],
   "source": [
    "import numpy as np\n",
    "import theano\n",
    "from theano import tensor as T\n",
    "\n",
    "\n",
    "W_values = np.array([[1,1],[1,1]], dtype=theano.config.floatX)\n",
    "bvis_values = np.array([0,0], dtype=theano.config.floatX)\n",
    "bhid_values = np.array([0,0], dtype=theano.config.floatX)\n",
    "\n",
    "W = theano.shared(W_values) # we assume that ``W_values`` contains the\n",
    "                            # initial values of your weight matrix\n",
    "bvis = theano.shared(bvis_values)\n",
    "bhid = theano.shared(bhid_values)\n",
    "\n",
    "trng = T.shared_randomstreams.RandomStreams(1234)\n",
    "\n",
    "def OneStep(vsample, W, bhid, bvis) :\n",
    "    hmean = T.nnet.sigmoid(theano.dot(vsample, W) + bhid)\n",
    "    hsample = trng.binomial(size=hmean.shape, n=1, p=hmean)\n",
    "    vmean = T.nnet.sigmoid(theano.dot(hsample, W.T) + bvis)\n",
    "    return trng.binomial(size=vsample.shape, n=1, p=vmean,\n",
    "                         dtype=theano.config.floatX)\n",
    "\n",
    "sample = T.matrix()\n",
    "\n",
    "values, updates = theano.scan(OneStep, sequences=sample, non_sequences = [W, bhid, bvis], n_steps=sample.shape[0])\n",
    "\n",
    "gibbs10 = theano.function([sample], values, updates=updates)"
   ]
  },
  {
   "cell_type": "code",
   "execution_count": 99,
   "metadata": {
    "collapsed": true
   },
   "outputs": [],
   "source": [
    "tmp = np.array([[10,10],[-10,-10]], dtype = theano.config.floatX)"
   ]
  },
  {
   "cell_type": "code",
   "execution_count": 100,
   "metadata": {
    "collapsed": false
   },
   "outputs": [
    {
     "data": {
      "text/plain": [
       "array([[ 1.,  1.],\n",
       "       [ 1.,  0.]], dtype=float32)"
      ]
     },
     "execution_count": 100,
     "metadata": {},
     "output_type": "execute_result"
    }
   ],
   "source": [
    "gibbs10(tmp)"
   ]
  }
 ],
 "metadata": {
  "anaconda-cloud": {},
  "kernelspec": {
   "display_name": "Python [conda env:py3]",
   "language": "python",
   "name": "conda-env-py3-py"
  },
  "language_info": {
   "codemirror_mode": {
    "name": "ipython",
    "version": 3
   },
   "file_extension": ".py",
   "mimetype": "text/x-python",
   "name": "python",
   "nbconvert_exporter": "python",
   "pygments_lexer": "ipython3",
   "version": "3.5.2"
  }
 },
 "nbformat": 4,
 "nbformat_minor": 2
}
