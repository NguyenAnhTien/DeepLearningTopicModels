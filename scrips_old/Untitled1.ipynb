{
 "cells": [
  {
   "cell_type": "code",
   "execution_count": 75,
   "metadata": {
    "collapsed": false
   },
   "outputs": [],
   "source": [
    "import numpy as np\n",
    "import theano\n",
    "from theano import tensor as T\n",
    "\n",
    "\n",
    "W_values = np.array([[1,2],[1,1]], dtype=theano.config.floatX)\n",
    "bvis_values = np.array([1,1], dtype=theano.config.floatX)\n",
    "bhid_values = np.array([2,3], dtype=theano.config.floatX)\n",
    "\n",
    "W = theano.shared(W_values) # we assume that ``W_values`` contains the\n",
    "                            # initial values of your weight matrix\n",
    "bvis = theano.shared(bvis_values)\n",
    "bhid = theano.shared(bhid_values)\n",
    "\n",
    "def t_propup(vis,vis_sum):\n",
    "    pre_sigmoid_activation = T.dot(vis, W) + T.dot(bhid.reshape([1,bhid.shape[0]]).T,vis_sum).T\n",
    "    return [pre_sigmoid_activation, T.nnet.sigmoid(pre_sigmoid_activation)]\n",
    "\n",
    "t_ipt = T.matrix()\n",
    "t_ipt_sum = t_ipt.sum(axis=1).reshape([1,t_ipt.shape[0]])\n",
    "\n",
    "t_results, t_updates = theano.scan( fn = t_propup, \n",
    "                                non_sequences = [t_ipt, t_ipt_sum],\n",
    "                                n_steps=1\n",
    "                                  )\n",
    "\n",
    "tmp_f = theano.function( [t_ipt], t_results, updates = t_updates)"
   ]
  },
  {
   "cell_type": "code",
   "execution_count": 11,
   "metadata": {
    "collapsed": true
   },
   "outputs": [],
   "source": [
    "tmp = np.array([[10,10],[-10,-10],[-10,-10]], dtype = theano.config.floatX)"
   ]
  },
  {
   "cell_type": "code",
   "execution_count": 18,
   "metadata": {
    "collapsed": false
   },
   "outputs": [
    {
     "data": {
      "text/plain": [
       "[array([[[ 60.,  20.],\n",
       "         [-60., -20.],\n",
       "         [-60., -20.]]], dtype=float32),\n",
       " array([[[  1.00000000e+00,   1.00000000e+00],\n",
       "         [  8.75653169e-27,   2.06115347e-09],\n",
       "         [  8.75653169e-27,   2.06115347e-09]]], dtype=float32)]"
      ]
     },
     "execution_count": 18,
     "metadata": {},
     "output_type": "execute_result"
    }
   ],
   "source": [
    "tmp_f(tmp)"
   ]
  },
  {
   "cell_type": "code",
   "execution_count": 78,
   "metadata": {
    "collapsed": false
   },
   "outputs": [],
   "source": [
    "def propdown(hid):\n",
    "    pre_softmax_activation = T.dot(hid, W.T) + bvis                               #---------------------------[edited]\n",
    "    return [pre_softmax_activation, T.nnet.softmax(pre_softmax_activation)]\n",
    "\n",
    "ipt = T.matrix()\n",
    "\n",
    "results, updates = theano.scan( fn = propdown, \n",
    "                                non_sequences = ipt,\n",
    "                                n_steps=1\n",
    "                                  )\n",
    "\n",
    "tmp_f2 = theano.function( [ipt], results, updates = updates)\n"
   ]
  },
  {
   "cell_type": "code",
   "execution_count": 79,
   "metadata": {
    "collapsed": false
   },
   "outputs": [
    {
     "data": {
      "text/plain": [
       "[array([[[ 4.,  3.],\n",
       "         [ 1.,  1.],\n",
       "         [ 3.,  2.],\n",
       "         [ 2.,  2.]]], dtype=float32), array([[[ 0.7310586 ,  0.26894143],\n",
       "         [ 0.5       ,  0.5       ],\n",
       "         [ 0.7310586 ,  0.26894143],\n",
       "         [ 0.5       ,  0.5       ]]], dtype=float32)]"
      ]
     },
     "execution_count": 79,
     "metadata": {},
     "output_type": "execute_result"
    }
   ],
   "source": [
    "tmp_f2(np.array([[1,1],[0,0],[0,1],[1,0]], dtype = theano.config.floatX))"
   ]
  },
  {
   "cell_type": "code",
   "execution_count": 76,
   "metadata": {
    "collapsed": false
   },
   "outputs": [
    {
     "data": {
      "text/plain": [
       "array([[ 43.,  24.],\n",
       "       [  2.,   3.],\n",
       "       [  4.,   4.],\n",
       "       [  3.,   4.]], dtype=float32)"
      ]
     },
     "execution_count": 76,
     "metadata": {},
     "output_type": "execute_result"
    }
   ],
   "source": [
    "(T.dot(np.array([[1,20],[0,0],[0,1],[1,0]], dtype = theano.config.floatX), W.T) + bhid).eval()"
   ]
  },
  {
   "cell_type": "code",
   "execution_count": 77,
   "metadata": {
    "collapsed": false
   },
   "outputs": [
    {
     "data": {
      "text/plain": [
       "array([[  1.00000000e+00,   5.60279645e-09],\n",
       "       [  2.68941432e-01,   7.31058598e-01],\n",
       "       [  5.00000000e-01,   5.00000000e-01],\n",
       "       [  2.68941432e-01,   7.31058598e-01]], dtype=float32)"
      ]
     },
     "execution_count": 77,
     "metadata": {},
     "output_type": "execute_result"
    }
   ],
   "source": [
    "T.nnet.softmax((T.dot(np.array([[1,20],[0,0],[0,1],[1,0]], dtype = theano.config.floatX), W.T) + bhid).eval()).eval()"
   ]
  },
  {
   "cell_type": "code",
   "execution_count": 39,
   "metadata": {
    "collapsed": false
   },
   "outputs": [
    {
     "data": {
      "text/plain": [
       "array([[ 0.1748777 ,  0.1748777 ,  0.1748777 ,  0.47536689]], dtype=float32)"
      ]
     },
     "execution_count": 39,
     "metadata": {},
     "output_type": "execute_result"
    }
   ],
   "source": [
    "T.nnet.softmax(np.array([0,0,0,1], dtype = theano.config.floatX)).eval()"
   ]
  }
 ],
 "metadata": {
  "anaconda-cloud": {},
  "kernelspec": {
   "display_name": "Python [conda env:py3]",
   "language": "python",
   "name": "conda-env-py3-py"
  },
  "language_info": {
   "codemirror_mode": {
    "name": "ipython",
    "version": 3
   },
   "file_extension": ".py",
   "mimetype": "text/x-python",
   "name": "python",
   "nbconvert_exporter": "python",
   "pygments_lexer": "ipython3",
   "version": "3.5.2"
  }
 },
 "nbformat": 4,
 "nbformat_minor": 2
}
